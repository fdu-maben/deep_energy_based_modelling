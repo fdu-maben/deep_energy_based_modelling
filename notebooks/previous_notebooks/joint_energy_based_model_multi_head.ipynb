{
 "cells": [
  {
   "cell_type": "code",
   "execution_count": 1,
   "metadata": {},
   "outputs": [],
   "source": [
    "import numpy as np\n",
    "import random as random\n",
    "\n",
    "import torch\n",
    "import torch.nn as nn\n",
    "import torch.optim as optim\n",
    "import torchvision\n",
    "import matplotlib.pyplot as plt\n",
    "\n",
    "from torchvision import datasets, transforms\n",
    "from torch.utils.data import DataLoader\n",
    "\n",
    "device = torch.device(\"cuda\" if torch.cuda.is_available() else \"cpu\")"
   ]
  },
  {
   "cell_type": "code",
   "execution_count": 2,
   "metadata": {},
   "outputs": [],
   "source": [
    "img_shape = (1, 28, 28)\n",
    "batch_size = 64\n",
    "num_classes = 10\n",
    "lr = 1e-4\n",
    "beta1 = 0.0\n",
    "alpha = 0.1 \n",
    "epochs = 10"
   ]
  },
  {
   "cell_type": "code",
   "execution_count": 3,
   "metadata": {},
   "outputs": [],
   "source": [
    "transform = transforms.Compose([\n",
    "    transforms.ToTensor(),\n",
    "    transforms.Normalize((0.5,), (0.5,))\n",
    "])\n",
    "\n",
    "train_dataset = datasets.CelebA(root=\"/work/home/maben/project/blue_whale_lab/projects/pareto_ebm/project/datasets/\", split=\"train\", transform=transform, target_type=\"attr\" ,download=False)\n",
    "val_dataset = datasets.CelebA(root=\"/work/home/maben/project/blue_whale_lab/projects/pareto_ebm/project/datasets/\", split=\"valid\", transform=transform, target_type=\"attr\" ,download=False)\n",
    "test_dataset = datasets.CelebA(root=\"/work/home/maben/project/blue_whale_lab/projects/pareto_ebm/project/datasets/\", split=\"test\", transform=transform, target_type=\"attr\" ,download=False)\n",
    "\n",
    "train_loader = DataLoader(train_dataset, batch_size=batch_size, shuffle=True)\n",
    "val_loader = DataLoader(val_dataset, batch_size=batch_size, shuffle=False)\n",
    "test_loader = DataLoader(test_dataset, batch_size=batch_size, shuffle=False)"
   ]
  },
  {
   "cell_type": "code",
   "execution_count": 4,
   "metadata": {},
   "outputs": [],
   "source": [
    "class Swish(nn.Module):\n",
    "\n",
    "    def forward(self, x):\n",
    "        return x * torch.sigmoid(x)"
   ]
  },
  {
   "cell_type": "code",
   "execution_count": 5,
   "metadata": {},
   "outputs": [],
   "source": [
    "class JEMClassifier(nn.Module):\n",
    "    def __init__(self, hidden_features=32):\n",
    "        super().__init__()\n",
    "        c_hid1 = hidden_features // 2\n",
    "        c_hid2 = hidden_features\n",
    "        c_hid3 = hidden_features * 2\n",
    "\n",
    "        self.cnn_layers = nn.Sequential(\n",
    "            nn.Conv2d(1, c_hid1, kernel_size=5, stride=2, padding=4),  # [16x16]\n",
    "            Swish(),\n",
    "            nn.Conv2d(c_hid1, c_hid2, kernel_size=3, stride=2, padding=1),  # [8x8]\n",
    "            Swish(),\n",
    "            nn.Conv2d(c_hid2, c_hid3, kernel_size=3, stride=2, padding=1),  # [4x4]\n",
    "            Swish(),\n",
    "            nn.Conv2d(c_hid3, c_hid3, kernel_size=3, stride=2, padding=1),  # [2x2]\n",
    "            Swish(),\n",
    "            nn.Flatten()\n",
    "        )\n",
    "        self.fc_energy = nn.Linear(c_hid3 * 4, 1) \n",
    "        self.fc_class = nn.Linear(c_hid3 * 4, num_classes)\n",
    "\n",
    "    def forward(self, x):\n",
    "        features = self.cnn_layers(x)\n",
    "        energy = self.fc_energy(features).squeeze(-1)\n",
    "        logits = self.fc_class(features)\n",
    "        return energy, logits"
   ]
  },
  {
   "cell_type": "code",
   "execution_count": null,
   "metadata": {},
   "outputs": [],
   "source": []
  }
 ],
 "metadata": {
  "kernelspec": {
   "display_name": "cf-design",
   "language": "python",
   "name": "python3"
  },
  "language_info": {
   "codemirror_mode": {
    "name": "ipython",
    "version": 3
   },
   "file_extension": ".py",
   "mimetype": "text/x-python",
   "name": "python",
   "nbconvert_exporter": "python",
   "pygments_lexer": "ipython3",
   "version": "3.11.8"
  }
 },
 "nbformat": 4,
 "nbformat_minor": 2
}
